{
 "cells": [
  {
   "cell_type": "markdown",
   "id": "1b8794b1",
   "metadata": {},
   "source": [
    "## LAB 1 - REGRESIÓN LOGISTICA"
   ]
  },
  {
   "cell_type": "markdown",
   "id": "feb6265e",
   "metadata": {},
   "source": [
    "## Nombre:\n",
    "### - Rosalía Reynaga Funes\n"
   ]
  },
  {
   "cell_type": "markdown",
   "id": "77f57215",
   "metadata": {},
   "source": [
    "Deben realizar un en entrenamiento por medio de una regresión logística para definir ayudar a la clasificación de un proceso de vinos.\n",
    "\n",
    "Se desea clasificar los vinos en \"aptos para la venta\" (Calidad igual o superior a 8) y \"no aptos para la venta\" (calidad inferior a 8).\n",
    "\n",
    "\n",
    "- Realizen el entrenamiento con un 70% de los datos y utilicen el 30% para el test.\n",
    "\n",
    "- Modificando los parámetros encuentren el mejor desempeño posible y realicen una prueba independiente para tres muestras (ingresando características clasificar la muestra).\n",
    "\n"
   ]
  },
  {
   "cell_type": "code",
   "execution_count": 1,
   "id": "675e5907",
   "metadata": {},
   "outputs": [],
   "source": [
    "# Importamos las librerias de OpenCV y Matplotlib\n",
    "import numpy as np\n",
    "import pandas as pd\n",
    "import matplotlib.pyplot as plt"
   ]
  },
  {
   "cell_type": "code",
   "execution_count": 2,
   "id": "70474fb6",
   "metadata": {},
   "outputs": [
    {
     "data": {
      "text/html": [
       "<div>\n",
       "<style scoped>\n",
       "    .dataframe tbody tr th:only-of-type {\n",
       "        vertical-align: middle;\n",
       "    }\n",
       "\n",
       "    .dataframe tbody tr th {\n",
       "        vertical-align: top;\n",
       "    }\n",
       "\n",
       "    .dataframe thead th {\n",
       "        text-align: right;\n",
       "    }\n",
       "</style>\n",
       "<table border=\"1\" class=\"dataframe\">\n",
       "  <thead>\n",
       "    <tr style=\"text-align: right;\">\n",
       "      <th></th>\n",
       "      <th>fixed acidity</th>\n",
       "      <th>volatile acidity</th>\n",
       "      <th>citric acid</th>\n",
       "      <th>residual sugar</th>\n",
       "      <th>chlorides</th>\n",
       "      <th>free sulfur dioxide</th>\n",
       "      <th>total sulfur dioxide</th>\n",
       "      <th>density</th>\n",
       "      <th>pH</th>\n",
       "      <th>sulphates</th>\n",
       "      <th>alcohol</th>\n",
       "      <th>quality</th>\n",
       "    </tr>\n",
       "  </thead>\n",
       "  <tbody>\n",
       "    <tr>\n",
       "      <th>1594</th>\n",
       "      <td>6.2</td>\n",
       "      <td>0.600</td>\n",
       "      <td>0.08</td>\n",
       "      <td>2.0</td>\n",
       "      <td>0.090</td>\n",
       "      <td>32.0</td>\n",
       "      <td>44.0</td>\n",
       "      <td>0.99490</td>\n",
       "      <td>3.45</td>\n",
       "      <td>0.58</td>\n",
       "      <td>10.5</td>\n",
       "      <td>5</td>\n",
       "    </tr>\n",
       "    <tr>\n",
       "      <th>1595</th>\n",
       "      <td>5.9</td>\n",
       "      <td>0.550</td>\n",
       "      <td>0.10</td>\n",
       "      <td>2.2</td>\n",
       "      <td>0.062</td>\n",
       "      <td>39.0</td>\n",
       "      <td>51.0</td>\n",
       "      <td>0.99512</td>\n",
       "      <td>3.52</td>\n",
       "      <td>0.76</td>\n",
       "      <td>11.2</td>\n",
       "      <td>6</td>\n",
       "    </tr>\n",
       "    <tr>\n",
       "      <th>1596</th>\n",
       "      <td>6.3</td>\n",
       "      <td>0.510</td>\n",
       "      <td>0.13</td>\n",
       "      <td>2.3</td>\n",
       "      <td>0.076</td>\n",
       "      <td>29.0</td>\n",
       "      <td>40.0</td>\n",
       "      <td>0.99574</td>\n",
       "      <td>3.42</td>\n",
       "      <td>0.75</td>\n",
       "      <td>11.0</td>\n",
       "      <td>6</td>\n",
       "    </tr>\n",
       "    <tr>\n",
       "      <th>1597</th>\n",
       "      <td>5.9</td>\n",
       "      <td>0.645</td>\n",
       "      <td>0.12</td>\n",
       "      <td>2.0</td>\n",
       "      <td>0.075</td>\n",
       "      <td>32.0</td>\n",
       "      <td>44.0</td>\n",
       "      <td>0.99547</td>\n",
       "      <td>3.57</td>\n",
       "      <td>0.71</td>\n",
       "      <td>10.2</td>\n",
       "      <td>5</td>\n",
       "    </tr>\n",
       "    <tr>\n",
       "      <th>1598</th>\n",
       "      <td>6.0</td>\n",
       "      <td>0.310</td>\n",
       "      <td>0.47</td>\n",
       "      <td>3.6</td>\n",
       "      <td>0.067</td>\n",
       "      <td>18.0</td>\n",
       "      <td>42.0</td>\n",
       "      <td>0.99549</td>\n",
       "      <td>3.39</td>\n",
       "      <td>0.66</td>\n",
       "      <td>11.0</td>\n",
       "      <td>6</td>\n",
       "    </tr>\n",
       "  </tbody>\n",
       "</table>\n",
       "</div>"
      ],
      "text/plain": [
       "      fixed acidity  volatile acidity  citric acid  residual sugar  chlorides  \\\n",
       "1594            6.2             0.600         0.08             2.0      0.090   \n",
       "1595            5.9             0.550         0.10             2.2      0.062   \n",
       "1596            6.3             0.510         0.13             2.3      0.076   \n",
       "1597            5.9             0.645         0.12             2.0      0.075   \n",
       "1598            6.0             0.310         0.47             3.6      0.067   \n",
       "\n",
       "      free sulfur dioxide  total sulfur dioxide  density    pH  sulphates  \\\n",
       "1594                 32.0                  44.0  0.99490  3.45       0.58   \n",
       "1595                 39.0                  51.0  0.99512  3.52       0.76   \n",
       "1596                 29.0                  40.0  0.99574  3.42       0.75   \n",
       "1597                 32.0                  44.0  0.99547  3.57       0.71   \n",
       "1598                 18.0                  42.0  0.99549  3.39       0.66   \n",
       "\n",
       "      alcohol  quality  \n",
       "1594     10.5        5  \n",
       "1595     11.2        6  \n",
       "1596     11.0        6  \n",
       "1597     10.2        5  \n",
       "1598     11.0        6  "
      ]
     },
     "execution_count": 2,
     "metadata": {},
     "output_type": "execute_result"
    }
   ],
   "source": [
    "# --- Acceder a los datos\n",
    "data = pd.read_csv('winequality-red.csv')\n",
    "\n",
    "# --- Visualizar datos automaticamente\n",
    "data.tail()\n",
    "#--------------------------------------------------------"
   ]
  },
  {
   "cell_type": "code",
   "execution_count": 3,
   "id": "2ab4b2b8",
   "metadata": {},
   "outputs": [
    {
     "name": "stdout",
     "output_type": "stream",
     "text": [
      "[[ 7.4    0.7    0.    ...  3.51   0.56   9.4  ]\n",
      " [ 7.8    0.88   0.    ...  3.2    0.68   9.8  ]\n",
      " [ 7.8    0.76   0.04  ...  3.26   0.65   9.8  ]\n",
      " ...\n",
      " [ 6.3    0.51   0.13  ...  3.42   0.75  11.   ]\n",
      " [ 5.9    0.645  0.12  ...  3.57   0.71  10.2  ]\n",
      " [ 6.     0.31   0.47  ...  3.39   0.66  11.   ]]\n"
     ]
    }
   ],
   "source": [
    "X_o = data.values[:,0:11]\n",
    "print(X_o)"
   ]
  },
  {
   "cell_type": "code",
   "execution_count": 4,
   "id": "fa8fbd26",
   "metadata": {},
   "outputs": [],
   "source": [
    "Class1_size = (data[data[\"quality\"] >= 8]).shape[0] #aptos para la venta\n",
    "Class2_size = (data[data[\"quality\"] < 8]).shape[0] #NO aptos para la venta"
   ]
  },
  {
   "cell_type": "code",
   "execution_count": 5,
   "id": "27c86519",
   "metadata": {},
   "outputs": [],
   "source": [
    "z = np.zeros(Class1_size) # Resultados de la primera clase\n",
    "o = np.ones(Class2_size) # Resultados de la segunda clase\n",
    "Y_o = np.concatenate((o, z), axis=0).reshape(X_o.shape[0],1) # Definir las clases resultantes"
   ]
  },
  {
   "cell_type": "code",
   "execution_count": 6,
   "id": "f4db1761",
   "metadata": {},
   "outputs": [],
   "source": [
    "# --- Inserte código aqui\n",
    "from sklearn.model_selection import train_test_split\n",
    "X, X_test, Y, Y_test = train_test_split(X_o, Y_o, test_size = 0.3, random_state = 42)\n",
    "\n",
    "#--------------------------------------------------------"
   ]
  },
  {
   "cell_type": "code",
   "execution_count": 7,
   "id": "4e8d22d8",
   "metadata": {},
   "outputs": [
    {
     "name": "stdout",
     "output_type": "stream",
     "text": [
      "[[ 8.6   0.22  0.36 ...  3.47  0.87 11.  ]\n",
      " [12.5   0.46  0.63 ...  2.99  0.87 10.2 ]\n",
      " [ 7.2   0.54  0.27 ...  3.39  0.71 11.  ]\n",
      " ...\n",
      " [ 7.2   0.62  0.06 ...  3.51  0.54  9.5 ]\n",
      " [ 7.9   0.2   0.35 ...  3.32  0.8  11.9 ]\n",
      " [ 5.8   0.29  0.26 ...  3.39  0.54 13.5 ]]\n"
     ]
    }
   ],
   "source": [
    "print(X)"
   ]
  },
  {
   "cell_type": "code",
   "execution_count": 8,
   "id": "152e7368",
   "metadata": {},
   "outputs": [
    {
     "name": "stdout",
     "output_type": "stream",
     "text": [
      "[[ 1.    7.7   0.56 ...  3.24  0.66  9.6 ]\n",
      " [ 1.    7.8   0.5  ...  3.39  0.48  9.5 ]\n",
      " [ 1.   10.7   0.67 ...  3.28  0.98  9.9 ]\n",
      " ...\n",
      " [ 1.    6.7   0.46 ...  3.39  0.6  10.6 ]\n",
      " [ 1.   10.5   0.51 ...  3.09  0.66 11.8 ]\n",
      " [ 1.    9.9   0.5  ...  3.34  0.52 10.  ]]\n"
     ]
    }
   ],
   "source": [
    "X = np.hstack((np.ones((len(X),1)),X)) #agregamos una columna de unos al inicio\n",
    "X_test= np.hstack((np.ones((len(X_test),1)),X_test))\n",
    "print(X_test)"
   ]
  },
  {
   "cell_type": "markdown",
   "id": "a848b648",
   "metadata": {},
   "source": [
    "#### Regresion "
   ]
  },
  {
   "cell_type": "code",
   "execution_count": 9,
   "id": "fa0dac18",
   "metadata": {},
   "outputs": [],
   "source": [
    "# --- Coeficientes de regresion\n",
    "#en esta regresion el w debe ser igual a la cantidad de caracteristcas es decir w = [5] vectpr de tamaño 5\n",
    "w = np.zeros(X.shape[1]).reshape(X.shape[1],1)\n",
    "\n",
    "#-------Parametros de entrenamiento\n",
    "n=0.000001 #->dato variable\n",
    "epochs=10000\n",
    "N=float(len(Y))\n",
    "\n",
    "#-------Parametros de error\n",
    "Error = [0]*epochs\n",
    "T = np.arange(1,epochs+1)\n",
    "#print(w)"
   ]
  },
  {
   "cell_type": "markdown",
   "id": "9c32a3fa",
   "metadata": {},
   "source": [
    "#### Entrenamiento"
   ]
  },
  {
   "cell_type": "code",
   "execution_count": 10,
   "id": "ca56bcfc",
   "metadata": {},
   "outputs": [],
   "source": [
    "for i in range(epochs):\n",
    "    Y_score=np.dot(X,w) #score\n",
    "    Y_prob=1/(1+np.exp(-Y_score.astype(float))) #probabilidad \n",
    "    Log_lik = -(1- Y)* Y_score - np.log(1 + np.exp(-Y_score.astype(float)))\n",
    "    cost = np.sum(Log_lik)/X.shape[0] #costo\n",
    "    Error[i]=cost #costo\n",
    "    der_w= np.dot(X.T,(Y- Y_prob)) #Derivada de w X.T -> \n",
    "    w = w + n*der_w #Gradiente descendiente"
   ]
  },
  {
   "cell_type": "code",
   "execution_count": 11,
   "id": "0825970d",
   "metadata": {},
   "outputs": [
    {
     "name": "stdout",
     "output_type": "stream",
     "text": [
      "[[ 0.02395747]\n",
      " [ 0.33650746]\n",
      " [ 0.01566283]\n",
      " [ 0.00207294]\n",
      " [ 0.02937212]\n",
      " [ 0.00345789]\n",
      " [-0.1355321 ]\n",
      " [ 0.04616013]\n",
      " [ 0.02395769]\n",
      " [ 0.07495879]\n",
      " [ 0.00990659]\n",
      " [ 0.21821813]]\n"
     ]
    }
   ],
   "source": [
    "print(w)"
   ]
  },
  {
   "cell_type": "markdown",
   "id": "0f7faa5b",
   "metadata": {},
   "source": [
    "#### Grafica del error"
   ]
  },
  {
   "cell_type": "code",
   "execution_count": 12,
   "id": "325c20aa",
   "metadata": {},
   "outputs": [
    {
     "data": {
      "image/png": "[encoded data removed]",
      "text/plain": [
       "<Figure size 640x480 with 1 Axes>"
      ]
     },
     "metadata": {},
     "output_type": "display_data"
    },
    {
     "name": "stdout",
     "output_type": "stream",
     "text": [
      "Valor maximo del error: -0.04396026312534532\n"
     ]
    }
   ],
   "source": [
    "plt.plot(T,Error,'-r')\n",
    "plt.show()\n",
    "Max_E = max(Error)\n",
    "print(\"Valor maximo del error: \"+str(Max_E))"
   ]
  },
  {
   "cell_type": "markdown",
   "id": "91ef2582",
   "metadata": {},
   "source": [
    "#### Definicion y pred"
   ]
  },
  {
   "cell_type": "code",
   "execution_count": 14,
   "id": "05820f72",
   "metadata": {},
   "outputs": [
    {
     "name": "stdout",
     "output_type": "stream",
     "text": [
      "Precision con datos de entrenamiento: 99.01697944593387%\n"
     ]
    }
   ],
   "source": [
    "#Columan de ka ckase\n",
    "Y_prediction= np.zeros((Y_prob.shape[0],1))\n",
    "\n",
    "for i in range (Y_prob.shape[0]):\n",
    "    if Y_prob[i,0] <= 0.5:\n",
    "        Y_prediction[i,0]=0\n",
    "    else:\n",
    "        Y_prediction[i,0]=1\n",
    "        \n",
    "prob_train= float(1-sum(abs(Y-Y_prediction))/Y.shape[0])*100;\n",
    "print('Precision con datos de entrenamiento: '+str(prob_train)+'%')\n",
    "    "
   ]
  },
  {
   "cell_type": "code",
   "execution_count": 15,
   "id": "1360cbe8",
   "metadata": {},
   "outputs": [
    {
     "name": "stdout",
     "output_type": "stream",
     "text": [
      "Precision con datos de entrenamiento: 98.54166666666667%\n"
     ]
    }
   ],
   "source": [
    "Y_score_test = np.dot(X_test, w)\n",
    "Y_prob_test = 1/(1 + np.exp(-Y_score_test.astype(float)))\n",
    "Y_prediction_test = np.zeros((Y_prob_test.shape[0],1))\n",
    "for i in range (Y_prob_test.shape[0]):\n",
    "    if Y_prob_test[i, 0]<= 0.5:\n",
    "        Y_prediction_test[i, 0] = 0\n",
    "    else:\n",
    "        Y_prediction_test[i, 0] = 1\n",
    "        \n",
    "prob_test = float(1-sum(abs(Y_test - Y_prediction_test))/Y_test.shape[0])*100\n",
    "print('Precision con datos de entrenamiento: '+str(prob_test) + '%')"
   ]
  },
  {
   "cell_type": "markdown",
   "id": "fccd14bb",
   "metadata": {},
   "source": [
    "###  prueba independiente para tres muestras"
   ]
  },
  {
   "cell_type": "markdown",
   "id": "0c1fea91",
   "metadata": {},
   "source": [
    "Tomamos 3 filas de la matriz X_test "
   ]
  },
  {
   "cell_type": "code",
   "execution_count": 25,
   "id": "7d814c5f",
   "metadata": {},
   "outputs": [],
   "source": [
    "test1=(X_test[1])\n",
    "test2=(X_test[2])\n",
    "test3=(X_test[3])"
   ]
  },
  {
   "cell_type": "code",
   "execution_count": 26,
   "id": "792c8356",
   "metadata": {},
   "outputs": [],
   "source": [
    "#Calculamos el score \n",
    "#wt * h(x)\n",
    "score1T=np.sum(w.T*test1)\n",
    "score2T=np.sum(w.T*test2)\n",
    "score3T=np.sum(w.T*test3)"
   ]
  },
  {
   "cell_type": "code",
   "execution_count": 29,
   "id": "29f72a14",
   "metadata": {},
   "outputs": [
    {
     "name": "stdout",
     "output_type": "stream",
     "text": [
      "0.9990152496411864 0.99559460834835 0.9762502177876693\n"
     ]
    }
   ],
   "source": [
    "#Aplicamos la funcion sigmoide\n",
    "sigm1T=1/(1+np.exp(-score1T))\n",
    "sigm2T=1/(1+np.exp(-score2T))\n",
    "sigm3T=1/(1+np.exp(-score3T))\n",
    "print('Primer testeo'sigm1T,sigm2T,sigm3T)"
   ]
  },
  {
   "cell_type": "markdown",
   "id": "ad0b58fe",
   "metadata": {},
   "source": [
    "Comparamos los resultados optenidos con las respuestas"
   ]
  },
  {
   "cell_type": "code",
   "execution_count": 33,
   "id": "c51e841d",
   "metadata": {},
   "outputs": [
    {
     "name": "stdout",
     "output_type": "stream",
     "text": [
      "Primer testeo: 0.9990152496411864  Y_test[1]: [1.]\n"
     ]
    }
   ],
   "source": [
    "print('Primer testeo:',sigm1T, ' Y_test[1]:', Y_test[1])"
   ]
  },
  {
   "cell_type": "code",
   "execution_count": 34,
   "id": "97f3fed0",
   "metadata": {},
   "outputs": [
    {
     "name": "stdout",
     "output_type": "stream",
     "text": [
      "Segundo testeo: 0.99559460834835  Y_test[2]: [1.]\n"
     ]
    }
   ],
   "source": [
    "print('Segundo testeo:',sigm2T, ' Y_test[2]:', Y_test[2])"
   ]
  },
  {
   "cell_type": "code",
   "execution_count": 35,
   "id": "1c38edb5",
   "metadata": {},
   "outputs": [
    {
     "name": "stdout",
     "output_type": "stream",
     "text": [
      "Tercer testeo: 0.9762502177876693  Y_test[3]: [1.]\n"
     ]
    }
   ],
   "source": [
    "print('Tercer testeo:',sigm3T, ' Y_test[3]:', Y_test[3])"
   ]
  }
 ],
 "metadata": {
  "kernelspec": {
   "display_name": "Python 3 (ipykernel)",
   "language": "python",
   "name": "python3"
  },
  "language_info": {
   "codemirror_mode": {
    "name": "ipython",
    "version": 3
   },
   "file_extension": ".py",
   "mimetype": "text/x-python",
   "name": "python",
   "nbconvert_exporter": "python",
   "pygments_lexer": "ipython3",
   "version": "3.11.4"
  }
 },
 "nbformat": 4,
 "nbformat_minor": 5
}
